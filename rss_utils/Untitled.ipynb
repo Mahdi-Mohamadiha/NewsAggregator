{
 "cells": [
  {
   "cell_type": "code",
   "execution_count": 1,
   "id": "ac32dd9f",
   "metadata": {},
   "outputs": [
    {
     "ename": "AttributeError",
     "evalue": "module 'pymongo' has no attribute 'MongoClinet'",
     "output_type": "error",
     "traceback": [
      "\u001b[1;31m---------------------------------------------------------------------------\u001b[0m",
      "\u001b[1;31mAttributeError\u001b[0m                            Traceback (most recent call last)",
      "Cell \u001b[1;32mIn[1], line 14\u001b[0m\n\u001b[0;32m     11\u001b[0m         data_list \u001b[38;5;241m=\u001b[39m \u001b[38;5;28mlist\u001b[39m(\u001b[38;5;28mself\u001b[39m\u001b[38;5;241m.\u001b[39mdata)\n\u001b[0;32m     12\u001b[0m         \u001b[38;5;28;01mreturn\u001b[39;00m data_list\n\u001b[1;32m---> 14\u001b[0m mf \u001b[38;5;241m=\u001b[39m \u001b[43mMongoFetcher\u001b[49m\u001b[43m(\u001b[49m\u001b[38;5;241;43m27017\u001b[39;49m\u001b[43m,\u001b[49m\u001b[38;5;124;43m\"\u001b[39;49m\u001b[38;5;124;43mnag\u001b[39;49m\u001b[38;5;124;43m\"\u001b[39;49m\u001b[43m,\u001b[49m\u001b[38;5;124;43m\"\u001b[39;49m\u001b[38;5;124;43mnews\u001b[39;49m\u001b[38;5;124;43m\"\u001b[39;49m\u001b[43m)\u001b[49m\n",
      "Cell \u001b[1;32mIn[1], line 5\u001b[0m, in \u001b[0;36mMongoFetcher.__init__\u001b[1;34m(self, host_address, dbname, colname)\u001b[0m\n\u001b[0;32m      4\u001b[0m \u001b[38;5;28;01mdef\u001b[39;00m \u001b[38;5;21m__init__\u001b[39m(\u001b[38;5;28mself\u001b[39m, host_address, dbname, colname):\n\u001b[1;32m----> 5\u001b[0m     \u001b[38;5;28mself\u001b[39m\u001b[38;5;241m.\u001b[39mclient \u001b[38;5;241m=\u001b[39m \u001b[43mpymongo\u001b[49m\u001b[38;5;241;43m.\u001b[39;49m\u001b[43mMongoClinet\u001b[49m(\u001b[38;5;124m\"\u001b[39m\u001b[38;5;124mmongodb://localhost:\u001b[39m\u001b[38;5;132;01m{}\u001b[39;00m\u001b[38;5;124m/\u001b[39m\u001b[38;5;124m\"\u001b[39m\u001b[38;5;241m.\u001b[39mformat(host_address))\n\u001b[0;32m      6\u001b[0m     \u001b[38;5;28mself\u001b[39m\u001b[38;5;241m.\u001b[39mdb \u001b[38;5;241m=\u001b[39m \u001b[38;5;28mself\u001b[39m\u001b[38;5;241m.\u001b[39mclient[dbname]\n\u001b[0;32m      7\u001b[0m     \u001b[38;5;28mself\u001b[39m\u001b[38;5;241m.\u001b[39mcol \u001b[38;5;241m=\u001b[39m \u001b[38;5;28mself\u001b[39m\u001b[38;5;241m.\u001b[39mdb[colname]\n",
      "\u001b[1;31mAttributeError\u001b[0m: module 'pymongo' has no attribute 'MongoClinet'"
     ]
    }
   ],
   "source": [
    "import pymongo\n",
    "\n",
    "class MongoFetcher():\n",
    "    def __init__(self, host_address, dbname, colname):\n",
    "        self.client = pymongo.MongoClinet(\"mongodb://localhost:{}/\".format(host_address))\n",
    "        self.db = self.client[dbname]\n",
    "        self.col = self.db[colname]\n",
    "        \n",
    "    def returnall():\n",
    "        self.data = self.col.find()\n",
    "        data_list = list(self.data)\n",
    "        return data_list\n",
    "    \n",
    "mf = MongoFetcher(27017,\"nag\",\"news\")"
   ]
  }
 ],
 "metadata": {
  "kernelspec": {
   "display_name": "sysproj",
   "language": "python",
   "name": "sysproj"
  },
  "language_info": {
   "codemirror_mode": {
    "name": "ipython",
    "version": 3
   },
   "file_extension": ".py",
   "mimetype": "text/x-python",
   "name": "python",
   "nbconvert_exporter": "python",
   "pygments_lexer": "ipython3",
   "version": "3.10.5"
  }
 },
 "nbformat": 4,
 "nbformat_minor": 5
}
