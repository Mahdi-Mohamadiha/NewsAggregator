{
 "cells": [
  {
   "cell_type": "code",
   "execution_count": 3,
   "id": "7d5e77f3",
   "metadata": {},
   "outputs": [
    {
     "ename": "UnidentifiedImageError",
     "evalue": "cannot identify image file <_io.BytesIO object at 0x0000018D2D516CF0>",
     "output_type": "error",
     "traceback": [
      "\u001b[1;31m---------------------------------------------------------------------------\u001b[0m",
      "\u001b[1;31mUnidentifiedImageError\u001b[0m                    Traceback (most recent call last)",
      "Cell \u001b[1;32mIn[3], line 9\u001b[0m\n\u001b[0;32m      7\u001b[0m headers[\u001b[39m'\u001b[39m\u001b[39mReferer\u001b[39m\u001b[39m'\u001b[39m] \u001b[39m=\u001b[39m url\n\u001b[0;32m      8\u001b[0m response \u001b[39m=\u001b[39m req\u001b[39m.\u001b[39mget(url,headers \u001b[39m=\u001b[39m headers,allow_redirects \u001b[39m=\u001b[39m \u001b[39mFalse\u001b[39;00m)\n\u001b[1;32m----> 9\u001b[0m img \u001b[39m=\u001b[39m Image\u001b[39m.\u001b[39;49mopen(BytesIO(response\u001b[39m.\u001b[39;49mcontent))\n\u001b[0;32m     10\u001b[0m \u001b[39m# print(img)\u001b[39;00m\n\u001b[0;32m     11\u001b[0m img\u001b[39m.\u001b[39mshow()\n",
      "File \u001b[1;32mc:\\Users\\BP\\miniconda3\\envs\\python-env\\lib\\site-packages\\PIL\\Image.py:3283\u001b[0m, in \u001b[0;36mopen\u001b[1;34m(fp, mode, formats)\u001b[0m\n\u001b[0;32m   3281\u001b[0m     warnings\u001b[39m.\u001b[39mwarn(message)\n\u001b[0;32m   3282\u001b[0m msg \u001b[39m=\u001b[39m \u001b[39m\"\u001b[39m\u001b[39mcannot identify image file \u001b[39m\u001b[39m%r\u001b[39;00m\u001b[39m\"\u001b[39m \u001b[39m%\u001b[39m (filename \u001b[39mif\u001b[39;00m filename \u001b[39melse\u001b[39;00m fp)\n\u001b[1;32m-> 3283\u001b[0m \u001b[39mraise\u001b[39;00m UnidentifiedImageError(msg)\n",
      "\u001b[1;31mUnidentifiedImageError\u001b[0m: cannot identify image file <_io.BytesIO object at 0x0000018D2D516CF0>"
     ]
    }
   ],
   "source": [
    "import requests as req\n",
    "from PIL import Image\n",
    "from io import BytesIO\n",
    "url = 'https://img9.irna.ir/d/r2/2023/02/15/4/170189476.jpg'\n",
    "# response = req.get(url, allow_redirects = False)\n",
    "headers = {}\n",
    "headers['Referer'] = url\n",
    "response = req.get(url,headers = headers,allow_redirects = False)\n",
    "img = Image.open(BytesIO(response.content))\n",
    "# print(img)\n",
    "img.show()\n",
    "# print(response)"
   ]
  },
  {
   "cell_type": "code",
   "execution_count": 39,
   "id": "0485fe68",
   "metadata": {},
   "outputs": [
    {
     "ename": "UnidentifiedImageError",
     "evalue": "cannot identify image file <_io.BytesIO object at 0x000001D9E1703F60>",
     "output_type": "error",
     "traceback": [
      "\u001b[1;31m---------------------------------------------------------------------------\u001b[0m",
      "\u001b[1;31mUnidentifiedImageError\u001b[0m                    Traceback (most recent call last)",
      "Cell \u001b[1;32mIn[39], line 8\u001b[0m\n\u001b[0;32m      5\u001b[0m url \u001b[39m=\u001b[39m \u001b[39m\"\u001b[39m\u001b[39mhttps://img9.irna.ir/d/r2/2023/02/15/4/170189476.jpg\u001b[39m\u001b[39m\"\u001b[39m\n\u001b[0;32m      6\u001b[0m r \u001b[39m=\u001b[39m requests\u001b[39m.\u001b[39mget(url)\n\u001b[1;32m----> 8\u001b[0m img \u001b[39m=\u001b[39m Image\u001b[39m.\u001b[39;49mopen(io\u001b[39m.\u001b[39;49mBytesIO(r\u001b[39m.\u001b[39;49mcontent))\n",
      "File \u001b[1;32mc:\\Users\\BP\\miniconda3\\envs\\python-env\\lib\\site-packages\\PIL\\Image.py:3283\u001b[0m, in \u001b[0;36mopen\u001b[1;34m(fp, mode, formats)\u001b[0m\n\u001b[0;32m   3281\u001b[0m     warnings\u001b[39m.\u001b[39mwarn(message)\n\u001b[0;32m   3282\u001b[0m msg \u001b[39m=\u001b[39m \u001b[39m\"\u001b[39m\u001b[39mcannot identify image file \u001b[39m\u001b[39m%r\u001b[39;00m\u001b[39m\"\u001b[39m \u001b[39m%\u001b[39m (filename \u001b[39mif\u001b[39;00m filename \u001b[39melse\u001b[39;00m fp)\n\u001b[1;32m-> 3283\u001b[0m \u001b[39mraise\u001b[39;00m UnidentifiedImageError(msg)\n",
      "\u001b[1;31mUnidentifiedImageError\u001b[0m: cannot identify image file <_io.BytesIO object at 0x000001D9E1703F60>"
     ]
    }
   ],
   "source": [
    "import urllib.request\n",
    "import requests\n",
    "from PIL import Image\n",
    "import io\n",
    "url = \"https://img9.irna.ir/d/r2/2023/02/15/4/170189476.jpg\"\n",
    "r = requests.get(url,allow_redirects = False)\n",
    "\n",
    "\n"
   ]
  },
  {
   "cell_type": "code",
   "execution_count": 25,
   "id": "4bf56d0f",
   "metadata": {},
   "outputs": [
    {
     "name": "stdout",
     "output_type": "stream",
     "text": [
      "Note: you may need to restart the kernel to use updated packages.\n"
     ]
    },
    {
     "name": "stderr",
     "output_type": "stream",
     "text": [
      "ERROR: Could not find a version that satisfies the requirement urrlib.request (from versions: none)\n",
      "ERROR: No matching distribution found for urrlib.request\n"
     ]
    }
   ],
   "source": [
    "pip install urrlib.request\n"
   ]
  }
 ],
 "metadata": {
  "kernelspec": {
   "display_name": "python-env",
   "language": "python",
   "name": "python3"
  },
  "language_info": {
   "codemirror_mode": {
    "name": "ipython",
    "version": 3
   },
   "file_extension": ".py",
   "mimetype": "text/x-python",
   "name": "python",
   "nbconvert_exporter": "python",
   "pygments_lexer": "ipython3",
   "version": "3.10.6"
  },
  "vscode": {
   "interpreter": {
    "hash": "67bacec3e3d34239ea3731de779412abdce1ceda8cee8bc12bb97b694ae3e2e1"
   }
  }
 },
 "nbformat": 4,
 "nbformat_minor": 5
}
