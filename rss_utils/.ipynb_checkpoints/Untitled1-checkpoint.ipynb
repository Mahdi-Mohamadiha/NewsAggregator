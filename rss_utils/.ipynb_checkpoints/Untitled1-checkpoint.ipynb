{
 "cells": [
  {
   "cell_type": "code",
   "execution_count": 12,
   "id": "7d5e77f3",
   "metadata": {},
   "outputs": [],
   "source": [
    "import requests as req\n",
    "from PIL import Image\n",
    "from io import BytesIO\n",
    "\n",
    "response = req.get('https://www.seiu1000.org/sites/main/files/main-images/camera_lense_0.jpeg')\n",
    "img = Image.open(BytesIO(response.content))\n",
    "# print(imgdata)\n",
    "# print(img)\n",
    "# print(response)"
   ]
  }
 ],
 "metadata": {
  "kernelspec": {
   "display_name": "Python [conda env:python-env]",
   "language": "python",
   "name": "conda-env-python-env-py"
  },
  "language_info": {
   "codemirror_mode": {
    "name": "ipython",
    "version": 3
   },
   "file_extension": ".py",
   "mimetype": "text/x-python",
   "name": "python",
   "nbconvert_exporter": "python",
   "pygments_lexer": "ipython3",
   "version": "3.10.6"
  }
 },
 "nbformat": 4,
 "nbformat_minor": 5
}
