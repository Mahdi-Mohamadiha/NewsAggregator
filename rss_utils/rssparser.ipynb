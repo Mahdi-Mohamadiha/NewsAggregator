{
 "cells": [
  {
   "cell_type": "code",
   "execution_count": null,
   "id": "c1f19a23",
   "metadata": {},
   "outputs": [],
   "source": [
    "import feedparser as fp"
   ]
  },
  {
   "cell_type": "code",
   "execution_count": null,
   "id": "fb7fe9ed",
   "metadata": {},
   "outputs": [],
   "source": [
    "class RssParser():\n",
    "    def __init__(self,feed):\n",
    "        self.feed = feed\n",
    "    "
   ]
  },
  {
   "cell_type": "code",
   "execution_count": 1,
   "id": "0e9a06cd",
   "metadata": {},
   "outputs": [],
   "source": [
    "# reading data from mongo\n",
    "# parsing data\n",
    "# inserting it to postgres\n",
    "# schedule it"
   ]
  },
  {
   "cell_type": "code",
   "execution_count": null,
   "id": "27029b1a",
   "metadata": {},
   "outputs": [],
   "source": []
  }
 ],
 "metadata": {
  "kernelspec": {
   "display_name": "sysproj",
   "language": "python",
   "name": "sysproj"
  },
  "language_info": {
   "codemirror_mode": {
    "name": "ipython",
    "version": 3
   },
   "file_extension": ".py",
   "mimetype": "text/x-python",
   "name": "python",
   "nbconvert_exporter": "python",
   "pygments_lexer": "ipython3",
   "version": "3.10.5"
  }
 },
 "nbformat": 4,
 "nbformat_minor": 5
}
